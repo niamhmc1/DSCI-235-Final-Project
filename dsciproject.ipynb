{
  "nbformat": 4,
  "nbformat_minor": 0,
  "metadata": {
    "colab": {
      "provenance": []
    },
    "kernelspec": {
      "name": "python3",
      "display_name": "Python 3"
    },
    "language_info": {
      "name": "python"
    }
  },
  "cells": [
    {
      "cell_type": "markdown",
      "source": [
        "# DSCI 235 Final Project\n",
        "###  Data on Human Evolution\n",
        "Niamh Corrigan\n",
        "## Data set: Biological Data of Human Evolution\n",
        "Source: https://www.kaggle.com/datasets/santiago123678/biological-data-of-human-ancestors-data-sets"
      ],
      "metadata": {
        "id": "0-duG39e9XLq"
      }
    },
    {
      "cell_type": "code",
      "execution_count": 73,
      "metadata": {
        "id": "lYnPSd-o4x2a"
      },
      "outputs": [],
      "source": [
        "import pandas as pd\n",
        "import numpy as np"
      ]
    },
    {
      "cell_type": "code",
      "source": [
        "df = pd.read_csv(\"https://raw.githubusercontent.com/niamhmc1/DSCI-235-Final-Project/main/Evolution_DataSets%20(1).csv\")"
      ],
      "metadata": {
        "id": "X2Lhq6Ba43DI"
      },
      "execution_count": 104,
      "outputs": []
    },
    {
      "cell_type": "code",
      "source": [
        "# rename columns\n",
        "col_names = {'Genus_&_Specie':'species','Time':'time(mil)','Location':'continent','Zone':'zone','Current_Country':'country','Habitat':'habitat','Cranial_Capacity':'cranial capacity(mm)',\n",
        "             'Height':'height(cm)','Incisor_Size':'incisor size','Jaw_Shape':'jaw shape','Tooth_Enamel': 'tooth enamel', 'Tecno':'technology','Tecno_type':'technology type',\n",
        "             'biped':'biped','Arms':'arm use','Foots':'foot use','Diet':'diet','Hip':'hip size','Migrated':'migrated','Skeleton':'skeleton'}\n",
        "df.rename(columns=col_names, inplace=True)\n",
        "df.head()"
      ],
      "metadata": {
        "colab": {
          "base_uri": "https://localhost:8080/",
          "height": 411
        },
        "id": "EbZtcX35QmKx",
        "outputId": "ed837e38-7f97-4e3b-bbcf-4509676d92bc"
      },
      "execution_count": 126,
      "outputs": [
        {
          "output_type": "execute_result",
          "data": {
            "text/plain": [
              "                                   species  time(mil) continent      zone  \\\n",
              "0              hominino Orrorin tugenencin   6.041124    Africa  oriental   \n",
              "1  hominino Ardipithecus ramidus / kabadda   4.383910    Africa  oriental   \n",
              "2               Australopithecus Afarensis   3.749413    Africa  oriental   \n",
              "3               Australopithecus Anamensis   4.595606    Africa  oriental   \n",
              "4               Australopithecus Africanus   3.614060    Africa     south   \n",
              "\n",
              "        country         habitat  cranial capacity(mm)  height(cm)  \\\n",
              "0         Kenya          forest             144.51410   110.24323   \n",
              "1      Ethiopia           mixed             293.96021   107.69018   \n",
              "2         Kenya           mixed             264.79849   123.76644   \n",
              "3         Kenya  forest-gallery             403.28047   111.40831   \n",
              "4  South Africa  forest-gallery             679.15233   111.59004   \n",
              "\n",
              "  incisor size jaw shape  ...  tooth enamel technology technology type  \\\n",
              "0        small   conical  ...         thick         no              no   \n",
              "1        small   conical  ...  thick-medium         no              no   \n",
              "2          big   U shape  ...         thick         no              no   \n",
              "3          big   U shape  ...         thick         no              no   \n",
              "4        small   conical  ...         thick         no              no   \n",
              "\n",
              "              biped   arm use  foot use         diet hip size migrated  \\\n",
              "0   low probability  climbing  climbing   dry fruits     wide       no   \n",
              "1  high probability  climbing  climbing  soft fruits     wide       no   \n",
              "2               yes  climbing      walk   dry fruits     slim       no   \n",
              "3               yes  climbing  climbing   dry fruits     wide       no   \n",
              "4               yes  climbing  climbing   dry fruits     wide       no   \n",
              "\n",
              "  skeleton  \n",
              "0    light  \n",
              "1    light  \n",
              "2  refined  \n",
              "3    light  \n",
              "4    light  \n",
              "\n",
              "[5 rows x 21 columns]"
            ],
            "text/html": [
              "\n",
              "  <div id=\"df-f577bfe6-720b-40ed-a833-266a66d0635d\" class=\"colab-df-container\">\n",
              "    <div>\n",
              "<style scoped>\n",
              "    .dataframe tbody tr th:only-of-type {\n",
              "        vertical-align: middle;\n",
              "    }\n",
              "\n",
              "    .dataframe tbody tr th {\n",
              "        vertical-align: top;\n",
              "    }\n",
              "\n",
              "    .dataframe thead th {\n",
              "        text-align: right;\n",
              "    }\n",
              "</style>\n",
              "<table border=\"1\" class=\"dataframe\">\n",
              "  <thead>\n",
              "    <tr style=\"text-align: right;\">\n",
              "      <th></th>\n",
              "      <th>species</th>\n",
              "      <th>time(mil)</th>\n",
              "      <th>continent</th>\n",
              "      <th>zone</th>\n",
              "      <th>country</th>\n",
              "      <th>habitat</th>\n",
              "      <th>cranial capacity(mm)</th>\n",
              "      <th>height(cm)</th>\n",
              "      <th>incisor size</th>\n",
              "      <th>jaw shape</th>\n",
              "      <th>...</th>\n",
              "      <th>tooth enamel</th>\n",
              "      <th>technology</th>\n",
              "      <th>technology type</th>\n",
              "      <th>biped</th>\n",
              "      <th>arm use</th>\n",
              "      <th>foot use</th>\n",
              "      <th>diet</th>\n",
              "      <th>hip size</th>\n",
              "      <th>migrated</th>\n",
              "      <th>skeleton</th>\n",
              "    </tr>\n",
              "  </thead>\n",
              "  <tbody>\n",
              "    <tr>\n",
              "      <th>0</th>\n",
              "      <td>hominino Orrorin tugenencin</td>\n",
              "      <td>6.041124</td>\n",
              "      <td>Africa</td>\n",
              "      <td>oriental</td>\n",
              "      <td>Kenya</td>\n",
              "      <td>forest</td>\n",
              "      <td>144.51410</td>\n",
              "      <td>110.24323</td>\n",
              "      <td>small</td>\n",
              "      <td>conical</td>\n",
              "      <td>...</td>\n",
              "      <td>thick</td>\n",
              "      <td>no</td>\n",
              "      <td>no</td>\n",
              "      <td>low probability</td>\n",
              "      <td>climbing</td>\n",
              "      <td>climbing</td>\n",
              "      <td>dry fruits</td>\n",
              "      <td>wide</td>\n",
              "      <td>no</td>\n",
              "      <td>light</td>\n",
              "    </tr>\n",
              "    <tr>\n",
              "      <th>1</th>\n",
              "      <td>hominino Ardipithecus ramidus / kabadda</td>\n",
              "      <td>4.383910</td>\n",
              "      <td>Africa</td>\n",
              "      <td>oriental</td>\n",
              "      <td>Ethiopia</td>\n",
              "      <td>mixed</td>\n",
              "      <td>293.96021</td>\n",
              "      <td>107.69018</td>\n",
              "      <td>small</td>\n",
              "      <td>conical</td>\n",
              "      <td>...</td>\n",
              "      <td>thick-medium</td>\n",
              "      <td>no</td>\n",
              "      <td>no</td>\n",
              "      <td>high probability</td>\n",
              "      <td>climbing</td>\n",
              "      <td>climbing</td>\n",
              "      <td>soft fruits</td>\n",
              "      <td>wide</td>\n",
              "      <td>no</td>\n",
              "      <td>light</td>\n",
              "    </tr>\n",
              "    <tr>\n",
              "      <th>2</th>\n",
              "      <td>Australopithecus Afarensis</td>\n",
              "      <td>3.749413</td>\n",
              "      <td>Africa</td>\n",
              "      <td>oriental</td>\n",
              "      <td>Kenya</td>\n",
              "      <td>mixed</td>\n",
              "      <td>264.79849</td>\n",
              "      <td>123.76644</td>\n",
              "      <td>big</td>\n",
              "      <td>U shape</td>\n",
              "      <td>...</td>\n",
              "      <td>thick</td>\n",
              "      <td>no</td>\n",
              "      <td>no</td>\n",
              "      <td>yes</td>\n",
              "      <td>climbing</td>\n",
              "      <td>walk</td>\n",
              "      <td>dry fruits</td>\n",
              "      <td>slim</td>\n",
              "      <td>no</td>\n",
              "      <td>refined</td>\n",
              "    </tr>\n",
              "    <tr>\n",
              "      <th>3</th>\n",
              "      <td>Australopithecus Anamensis</td>\n",
              "      <td>4.595606</td>\n",
              "      <td>Africa</td>\n",
              "      <td>oriental</td>\n",
              "      <td>Kenya</td>\n",
              "      <td>forest-gallery</td>\n",
              "      <td>403.28047</td>\n",
              "      <td>111.40831</td>\n",
              "      <td>big</td>\n",
              "      <td>U shape</td>\n",
              "      <td>...</td>\n",
              "      <td>thick</td>\n",
              "      <td>no</td>\n",
              "      <td>no</td>\n",
              "      <td>yes</td>\n",
              "      <td>climbing</td>\n",
              "      <td>climbing</td>\n",
              "      <td>dry fruits</td>\n",
              "      <td>wide</td>\n",
              "      <td>no</td>\n",
              "      <td>light</td>\n",
              "    </tr>\n",
              "    <tr>\n",
              "      <th>4</th>\n",
              "      <td>Australopithecus Africanus</td>\n",
              "      <td>3.614060</td>\n",
              "      <td>Africa</td>\n",
              "      <td>south</td>\n",
              "      <td>South Africa</td>\n",
              "      <td>forest-gallery</td>\n",
              "      <td>679.15233</td>\n",
              "      <td>111.59004</td>\n",
              "      <td>small</td>\n",
              "      <td>conical</td>\n",
              "      <td>...</td>\n",
              "      <td>thick</td>\n",
              "      <td>no</td>\n",
              "      <td>no</td>\n",
              "      <td>yes</td>\n",
              "      <td>climbing</td>\n",
              "      <td>climbing</td>\n",
              "      <td>dry fruits</td>\n",
              "      <td>wide</td>\n",
              "      <td>no</td>\n",
              "      <td>light</td>\n",
              "    </tr>\n",
              "  </tbody>\n",
              "</table>\n",
              "<p>5 rows × 21 columns</p>\n",
              "</div>\n",
              "    <div class=\"colab-df-buttons\">\n",
              "\n",
              "  <div class=\"colab-df-container\">\n",
              "    <button class=\"colab-df-convert\" onclick=\"convertToInteractive('df-f577bfe6-720b-40ed-a833-266a66d0635d')\"\n",
              "            title=\"Convert this dataframe to an interactive table.\"\n",
              "            style=\"display:none;\">\n",
              "\n",
              "  <svg xmlns=\"http://www.w3.org/2000/svg\" height=\"24px\" viewBox=\"0 -960 960 960\">\n",
              "    <path d=\"M120-120v-720h720v720H120Zm60-500h600v-160H180v160Zm220 220h160v-160H400v160Zm0 220h160v-160H400v160ZM180-400h160v-160H180v160Zm440 0h160v-160H620v160ZM180-180h160v-160H180v160Zm440 0h160v-160H620v160Z\"/>\n",
              "  </svg>\n",
              "    </button>\n",
              "\n",
              "  <style>\n",
              "    .colab-df-container {\n",
              "      display:flex;\n",
              "      gap: 12px;\n",
              "    }\n",
              "\n",
              "    .colab-df-convert {\n",
              "      background-color: #E8F0FE;\n",
              "      border: none;\n",
              "      border-radius: 50%;\n",
              "      cursor: pointer;\n",
              "      display: none;\n",
              "      fill: #1967D2;\n",
              "      height: 32px;\n",
              "      padding: 0 0 0 0;\n",
              "      width: 32px;\n",
              "    }\n",
              "\n",
              "    .colab-df-convert:hover {\n",
              "      background-color: #E2EBFA;\n",
              "      box-shadow: 0px 1px 2px rgba(60, 64, 67, 0.3), 0px 1px 3px 1px rgba(60, 64, 67, 0.15);\n",
              "      fill: #174EA6;\n",
              "    }\n",
              "\n",
              "    .colab-df-buttons div {\n",
              "      margin-bottom: 4px;\n",
              "    }\n",
              "\n",
              "    [theme=dark] .colab-df-convert {\n",
              "      background-color: #3B4455;\n",
              "      fill: #D2E3FC;\n",
              "    }\n",
              "\n",
              "    [theme=dark] .colab-df-convert:hover {\n",
              "      background-color: #434B5C;\n",
              "      box-shadow: 0px 1px 3px 1px rgba(0, 0, 0, 0.15);\n",
              "      filter: drop-shadow(0px 1px 2px rgba(0, 0, 0, 0.3));\n",
              "      fill: #FFFFFF;\n",
              "    }\n",
              "  </style>\n",
              "\n",
              "    <script>\n",
              "      const buttonEl =\n",
              "        document.querySelector('#df-f577bfe6-720b-40ed-a833-266a66d0635d button.colab-df-convert');\n",
              "      buttonEl.style.display =\n",
              "        google.colab.kernel.accessAllowed ? 'block' : 'none';\n",
              "\n",
              "      async function convertToInteractive(key) {\n",
              "        const element = document.querySelector('#df-f577bfe6-720b-40ed-a833-266a66d0635d');\n",
              "        const dataTable =\n",
              "          await google.colab.kernel.invokeFunction('convertToInteractive',\n",
              "                                                    [key], {});\n",
              "        if (!dataTable) return;\n",
              "\n",
              "        const docLinkHtml = 'Like what you see? Visit the ' +\n",
              "          '<a target=\"_blank\" href=https://colab.research.google.com/notebooks/data_table.ipynb>data table notebook</a>'\n",
              "          + ' to learn more about interactive tables.';\n",
              "        element.innerHTML = '';\n",
              "        dataTable['output_type'] = 'display_data';\n",
              "        await google.colab.output.renderOutput(dataTable, element);\n",
              "        const docLink = document.createElement('div');\n",
              "        docLink.innerHTML = docLinkHtml;\n",
              "        element.appendChild(docLink);\n",
              "      }\n",
              "    </script>\n",
              "  </div>\n",
              "\n",
              "\n",
              "<div id=\"df-88f44223-6d2e-4555-b8d4-eb45d6f4c6b0\">\n",
              "  <button class=\"colab-df-quickchart\" onclick=\"quickchart('df-88f44223-6d2e-4555-b8d4-eb45d6f4c6b0')\"\n",
              "            title=\"Suggest charts\"\n",
              "            style=\"display:none;\">\n",
              "\n",
              "<svg xmlns=\"http://www.w3.org/2000/svg\" height=\"24px\"viewBox=\"0 0 24 24\"\n",
              "     width=\"24px\">\n",
              "    <g>\n",
              "        <path d=\"M19 3H5c-1.1 0-2 .9-2 2v14c0 1.1.9 2 2 2h14c1.1 0 2-.9 2-2V5c0-1.1-.9-2-2-2zM9 17H7v-7h2v7zm4 0h-2V7h2v10zm4 0h-2v-4h2v4z\"/>\n",
              "    </g>\n",
              "</svg>\n",
              "  </button>\n",
              "\n",
              "<style>\n",
              "  .colab-df-quickchart {\n",
              "      --bg-color: #E8F0FE;\n",
              "      --fill-color: #1967D2;\n",
              "      --hover-bg-color: #E2EBFA;\n",
              "      --hover-fill-color: #174EA6;\n",
              "      --disabled-fill-color: #AAA;\n",
              "      --disabled-bg-color: #DDD;\n",
              "  }\n",
              "\n",
              "  [theme=dark] .colab-df-quickchart {\n",
              "      --bg-color: #3B4455;\n",
              "      --fill-color: #D2E3FC;\n",
              "      --hover-bg-color: #434B5C;\n",
              "      --hover-fill-color: #FFFFFF;\n",
              "      --disabled-bg-color: #3B4455;\n",
              "      --disabled-fill-color: #666;\n",
              "  }\n",
              "\n",
              "  .colab-df-quickchart {\n",
              "    background-color: var(--bg-color);\n",
              "    border: none;\n",
              "    border-radius: 50%;\n",
              "    cursor: pointer;\n",
              "    display: none;\n",
              "    fill: var(--fill-color);\n",
              "    height: 32px;\n",
              "    padding: 0;\n",
              "    width: 32px;\n",
              "  }\n",
              "\n",
              "  .colab-df-quickchart:hover {\n",
              "    background-color: var(--hover-bg-color);\n",
              "    box-shadow: 0 1px 2px rgba(60, 64, 67, 0.3), 0 1px 3px 1px rgba(60, 64, 67, 0.15);\n",
              "    fill: var(--button-hover-fill-color);\n",
              "  }\n",
              "\n",
              "  .colab-df-quickchart-complete:disabled,\n",
              "  .colab-df-quickchart-complete:disabled:hover {\n",
              "    background-color: var(--disabled-bg-color);\n",
              "    fill: var(--disabled-fill-color);\n",
              "    box-shadow: none;\n",
              "  }\n",
              "\n",
              "  .colab-df-spinner {\n",
              "    border: 2px solid var(--fill-color);\n",
              "    border-color: transparent;\n",
              "    border-bottom-color: var(--fill-color);\n",
              "    animation:\n",
              "      spin 1s steps(1) infinite;\n",
              "  }\n",
              "\n",
              "  @keyframes spin {\n",
              "    0% {\n",
              "      border-color: transparent;\n",
              "      border-bottom-color: var(--fill-color);\n",
              "      border-left-color: var(--fill-color);\n",
              "    }\n",
              "    20% {\n",
              "      border-color: transparent;\n",
              "      border-left-color: var(--fill-color);\n",
              "      border-top-color: var(--fill-color);\n",
              "    }\n",
              "    30% {\n",
              "      border-color: transparent;\n",
              "      border-left-color: var(--fill-color);\n",
              "      border-top-color: var(--fill-color);\n",
              "      border-right-color: var(--fill-color);\n",
              "    }\n",
              "    40% {\n",
              "      border-color: transparent;\n",
              "      border-right-color: var(--fill-color);\n",
              "      border-top-color: var(--fill-color);\n",
              "    }\n",
              "    60% {\n",
              "      border-color: transparent;\n",
              "      border-right-color: var(--fill-color);\n",
              "    }\n",
              "    80% {\n",
              "      border-color: transparent;\n",
              "      border-right-color: var(--fill-color);\n",
              "      border-bottom-color: var(--fill-color);\n",
              "    }\n",
              "    90% {\n",
              "      border-color: transparent;\n",
              "      border-bottom-color: var(--fill-color);\n",
              "    }\n",
              "  }\n",
              "</style>\n",
              "\n",
              "  <script>\n",
              "    async function quickchart(key) {\n",
              "      const quickchartButtonEl =\n",
              "        document.querySelector('#' + key + ' button');\n",
              "      quickchartButtonEl.disabled = true;  // To prevent multiple clicks.\n",
              "      quickchartButtonEl.classList.add('colab-df-spinner');\n",
              "      try {\n",
              "        const charts = await google.colab.kernel.invokeFunction(\n",
              "            'suggestCharts', [key], {});\n",
              "      } catch (error) {\n",
              "        console.error('Error during call to suggestCharts:', error);\n",
              "      }\n",
              "      quickchartButtonEl.classList.remove('colab-df-spinner');\n",
              "      quickchartButtonEl.classList.add('colab-df-quickchart-complete');\n",
              "    }\n",
              "    (() => {\n",
              "      let quickchartButtonEl =\n",
              "        document.querySelector('#df-88f44223-6d2e-4555-b8d4-eb45d6f4c6b0 button');\n",
              "      quickchartButtonEl.style.display =\n",
              "        google.colab.kernel.accessAllowed ? 'block' : 'none';\n",
              "    })();\n",
              "  </script>\n",
              "</div>\n",
              "\n",
              "    </div>\n",
              "  </div>\n"
            ],
            "application/vnd.google.colaboratory.intrinsic+json": {
              "type": "dataframe",
              "variable_name": "df"
            }
          },
          "metadata": {},
          "execution_count": 126
        }
      ]
    },
    {
      "cell_type": "markdown",
      "source": [
        "This data set contains various demographic factors, physical descriptions, and cultural habits of 12,000 hominids from 24 different species. Demographic factors include geographic location, the time they were alive, climate, and a few others. Physical descriptions include cranial capacity, height, hip size, and many more. Cultural habits include the diet of the hominid, whether or not they migrated, and what kind of technological advancements they used.\n",
        "\n"
      ],
      "metadata": {
        "id": "C_9KqPItQdGV"
      }
    },
    {
      "cell_type": "markdown",
      "source": [
        "## Demographic Factors"
      ],
      "metadata": {
        "id": "-3dkRZsp9U-o"
      }
    },
    {
      "cell_type": "code",
      "source": [
        "# Which continents species exist on\n",
        "df['continent'].unique()"
      ],
      "metadata": {
        "colab": {
          "base_uri": "https://localhost:8080/"
        },
        "id": "CfzYawFMAnum",
        "outputId": "e4c76fb0-9521-4bf6-8d77-e1ac27d570e8"
      },
      "execution_count": 44,
      "outputs": [
        {
          "output_type": "execute_result",
          "data": {
            "text/plain": [
              "array(['Africa', 'Europa', 'Asia '], dtype=object)"
            ]
          },
          "metadata": {},
          "execution_count": 44
        }
      ]
    },
    {
      "cell_type": "code",
      "source": [
        "# Continent with the most species\n",
        "df.groupby('continent')['species'].count().idxmax()"
      ],
      "metadata": {
        "colab": {
          "base_uri": "https://localhost:8080/",
          "height": 36
        },
        "id": "hdbv9bQ_Pyim",
        "outputId": "de69a937-2825-4664-8ec7-3bd2998b210a"
      },
      "execution_count": 22,
      "outputs": [
        {
          "output_type": "execute_result",
          "data": {
            "text/plain": [
              "'Africa'"
            ],
            "application/vnd.google.colaboratory.intrinsic+json": {
              "type": "string"
            }
          },
          "metadata": {},
          "execution_count": 22
        }
      ]
    },
    {
      "cell_type": "code",
      "source": [
        "# Modern country with the most species\n",
        "df.groupby('country')['species'].count().idxmax()"
      ],
      "metadata": {
        "colab": {
          "base_uri": "https://localhost:8080/",
          "height": 36
        },
        "id": "n5h1rcSeUvy2",
        "outputId": "e8480701-85f2-489b-aaa6-4bd49c374fdd"
      },
      "execution_count": 23,
      "outputs": [
        {
          "output_type": "execute_result",
          "data": {
            "text/plain": [
              "'Kenya'"
            ],
            "application/vnd.google.colaboratory.intrinsic+json": {
              "type": "string"
            }
          },
          "metadata": {},
          "execution_count": 23
        }
      ]
    },
    {
      "cell_type": "markdown",
      "source": [
        "## Explanation\n",
        "These demographic factors demonstrate that there is only biological evidence for homonid species in Africa, Europe, and Asia. Even though, there are seven current continents, the Eastern Hemisphere is the only part of the world where there is proof of human evolution. Further, the most species exist in Africa. This indicates evolution likely began in Africa. To narrow the beginning of evolution even further, the modern day country of Kenya is where the most data has been collected on each identified homonid species. This revelation points to the characteristics of Kenya that enabled human evolution."
      ],
      "metadata": {
        "id": "fa4mCT5WU8QC"
      }
    },
    {
      "cell_type": "markdown",
      "source": [
        "## Physical Factors\n",
        "\n",
        "\n",
        "\n"
      ],
      "metadata": {
        "id": "ORCp6NOFU_xH"
      }
    },
    {
      "cell_type": "code",
      "source": [
        "# Is there a relationship between height and cranial capacity? Compare the averages of each species\n",
        "avg_height = df.groupby('species')['height(cm)'].mean()\n",
        "avg_cran_cap = df.groupby('species')['cranial capacity(mm)'].mean()\n",
        "height_crancap = pd.merge(avg_height,avg_cran_cap, left_index=True, right_index=True)\n",
        "\n",
        "# multiply height by 10 to put in terms of mm\n",
        "height_crancap['height(mm)'] = height_crancap['height(cm)']*10\n",
        "\n",
        "# comparison via subtraction\n",
        "height_crancap['comp'] = height_crancap['height(mm)'] - height_crancap['cranial capacity(mm)']\n",
        "\n",
        "# range of cranial capacity\n",
        "cran_cap_range = height_crancap['cranial capacity(mm)'].max() - height_crancap['cranial capacity(mm)'].min()\n",
        "print('Range of cranial capacity(mm): ', cran_cap_range)\n",
        "height_range = height_crancap['height(mm)'].max() - height_crancap['height(mm)'].min()\n",
        "print('Range of height(mm): ', height_range)\n",
        "\n",
        "height_crancap"
      ],
      "metadata": {
        "colab": {
          "base_uri": "https://localhost:8080/",
          "height": 868
        },
        "id": "66QiyiPCVG6v",
        "outputId": "b96cf2f6-50a7-4bd7-a856-e855493ae63b"
      },
      "execution_count": 43,
      "outputs": [
        {
          "output_type": "stream",
          "name": "stdout",
          "text": [
            "Range of cranial capacity(mm):  1149.52834802\n",
            "Range of height(mm):  851.1141109999999\n"
          ]
        },
        {
          "output_type": "execute_result",
          "data": {
            "text/plain": [
              "                                         height(cm)  cranial capacity(mm)  \\\n",
              "species                                                                     \n",
              "Australopithecus Afarensis               129.780333            345.213793   \n",
              "Australopithecus Africanus               110.096554            554.417914   \n",
              "Australopithecus Anamensis               120.130958            345.761046   \n",
              "Australopithecus Bahrelghazali           119.880326            299.810369   \n",
              "Australopithecus Garhi                   120.252831            374.903410   \n",
              "Australopithecus Sediba                  109.910562            398.845521   \n",
              "Homo Antecesor                           169.762901           1026.860201   \n",
              "Homo Erectus                             160.266590           1047.212523   \n",
              "Homo Ergaster                            159.868294            839.930150   \n",
              "Homo Floresiensis                        100.074617            294.985992   \n",
              "Homo Georgicus                           149.714116            710.733957   \n",
              "Homo Habilis                             130.123005            744.600303   \n",
              "Homo Heidelbergensis                     175.131703           1299.876214   \n",
              "Homo Naledi                              130.081863            355.827746   \n",
              "Homo Neanderthalensis\\n                  159.863502           1100.143720   \n",
              "Homo Rodhesiensis                        150.059955           1097.314899   \n",
              "Homo Rudolfensis                         129.823354            679.859671   \n",
              "Homo Sapiens                             170.097394           1235.940823   \n",
              "Paranthropus Aethiopicus                 109.930573            452.221513   \n",
              "Paranthropus Boisei                      109.801203            500.870194   \n",
              "Paranthropus Robustus                    119.953410            496.803791   \n",
              "hominino Ardipithecus ramidus / kabadda  109.993517            300.393117   \n",
              "hominino Orrorin tugenencin              120.234905            150.347866   \n",
              "hominino Sahelanthropus tchadensis        90.020292            150.908532   \n",
              "\n",
              "                                          height(mm)         comp  \n",
              "species                                                            \n",
              "Australopithecus Afarensis               1297.803329   952.589536  \n",
              "Australopithecus Africanus               1100.965536   546.547622  \n",
              "Australopithecus Anamensis               1201.309577   855.548531  \n",
              "Australopithecus Bahrelghazali           1198.803260   898.992892  \n",
              "Australopithecus Garhi                   1202.528309   827.624898  \n",
              "Australopithecus Sediba                  1099.105624   700.260102  \n",
              "Homo Antecesor                           1697.629013   670.768811  \n",
              "Homo Erectus                             1602.665903   555.453380  \n",
              "Homo Ergaster                            1598.682937   758.752787  \n",
              "Homo Floresiensis                        1000.746173   705.760182  \n",
              "Homo Georgicus                           1497.141158   786.407201  \n",
              "Homo Habilis                             1301.230052   556.629749  \n",
              "Homo Heidelbergensis                     1751.317027   451.440812  \n",
              "Homo Naledi                              1300.818627   944.990880  \n",
              "Homo Neanderthalensis\\n                  1598.635024   498.491304  \n",
              "Homo Rodhesiensis                        1500.599546   403.284647  \n",
              "Homo Rudolfensis                         1298.233536   618.373865  \n",
              "Homo Sapiens                             1700.973941   465.033118  \n",
              "Paranthropus Aethiopicus                 1099.305725   647.084213  \n",
              "Paranthropus Boisei                      1098.012028   597.141834  \n",
              "Paranthropus Robustus                    1199.534098   702.730307  \n",
              "hominino Ardipithecus ramidus / kabadda  1099.935173   799.542056  \n",
              "hominino Orrorin tugenencin              1202.349052  1052.001186  \n",
              "hominino Sahelanthropus tchadensis        900.202916   749.294384  "
            ],
            "text/html": [
              "\n",
              "  <div id=\"df-c4855876-703a-4fa9-ba8a-66c300854481\" class=\"colab-df-container\">\n",
              "    <div>\n",
              "<style scoped>\n",
              "    .dataframe tbody tr th:only-of-type {\n",
              "        vertical-align: middle;\n",
              "    }\n",
              "\n",
              "    .dataframe tbody tr th {\n",
              "        vertical-align: top;\n",
              "    }\n",
              "\n",
              "    .dataframe thead th {\n",
              "        text-align: right;\n",
              "    }\n",
              "</style>\n",
              "<table border=\"1\" class=\"dataframe\">\n",
              "  <thead>\n",
              "    <tr style=\"text-align: right;\">\n",
              "      <th></th>\n",
              "      <th>height(cm)</th>\n",
              "      <th>cranial capacity(mm)</th>\n",
              "      <th>height(mm)</th>\n",
              "      <th>comp</th>\n",
              "    </tr>\n",
              "    <tr>\n",
              "      <th>species</th>\n",
              "      <th></th>\n",
              "      <th></th>\n",
              "      <th></th>\n",
              "      <th></th>\n",
              "    </tr>\n",
              "  </thead>\n",
              "  <tbody>\n",
              "    <tr>\n",
              "      <th>Australopithecus Afarensis</th>\n",
              "      <td>129.780333</td>\n",
              "      <td>345.213793</td>\n",
              "      <td>1297.803329</td>\n",
              "      <td>952.589536</td>\n",
              "    </tr>\n",
              "    <tr>\n",
              "      <th>Australopithecus Africanus</th>\n",
              "      <td>110.096554</td>\n",
              "      <td>554.417914</td>\n",
              "      <td>1100.965536</td>\n",
              "      <td>546.547622</td>\n",
              "    </tr>\n",
              "    <tr>\n",
              "      <th>Australopithecus Anamensis</th>\n",
              "      <td>120.130958</td>\n",
              "      <td>345.761046</td>\n",
              "      <td>1201.309577</td>\n",
              "      <td>855.548531</td>\n",
              "    </tr>\n",
              "    <tr>\n",
              "      <th>Australopithecus Bahrelghazali</th>\n",
              "      <td>119.880326</td>\n",
              "      <td>299.810369</td>\n",
              "      <td>1198.803260</td>\n",
              "      <td>898.992892</td>\n",
              "    </tr>\n",
              "    <tr>\n",
              "      <th>Australopithecus Garhi</th>\n",
              "      <td>120.252831</td>\n",
              "      <td>374.903410</td>\n",
              "      <td>1202.528309</td>\n",
              "      <td>827.624898</td>\n",
              "    </tr>\n",
              "    <tr>\n",
              "      <th>Australopithecus Sediba</th>\n",
              "      <td>109.910562</td>\n",
              "      <td>398.845521</td>\n",
              "      <td>1099.105624</td>\n",
              "      <td>700.260102</td>\n",
              "    </tr>\n",
              "    <tr>\n",
              "      <th>Homo Antecesor</th>\n",
              "      <td>169.762901</td>\n",
              "      <td>1026.860201</td>\n",
              "      <td>1697.629013</td>\n",
              "      <td>670.768811</td>\n",
              "    </tr>\n",
              "    <tr>\n",
              "      <th>Homo Erectus</th>\n",
              "      <td>160.266590</td>\n",
              "      <td>1047.212523</td>\n",
              "      <td>1602.665903</td>\n",
              "      <td>555.453380</td>\n",
              "    </tr>\n",
              "    <tr>\n",
              "      <th>Homo Ergaster</th>\n",
              "      <td>159.868294</td>\n",
              "      <td>839.930150</td>\n",
              "      <td>1598.682937</td>\n",
              "      <td>758.752787</td>\n",
              "    </tr>\n",
              "    <tr>\n",
              "      <th>Homo Floresiensis</th>\n",
              "      <td>100.074617</td>\n",
              "      <td>294.985992</td>\n",
              "      <td>1000.746173</td>\n",
              "      <td>705.760182</td>\n",
              "    </tr>\n",
              "    <tr>\n",
              "      <th>Homo Georgicus</th>\n",
              "      <td>149.714116</td>\n",
              "      <td>710.733957</td>\n",
              "      <td>1497.141158</td>\n",
              "      <td>786.407201</td>\n",
              "    </tr>\n",
              "    <tr>\n",
              "      <th>Homo Habilis</th>\n",
              "      <td>130.123005</td>\n",
              "      <td>744.600303</td>\n",
              "      <td>1301.230052</td>\n",
              "      <td>556.629749</td>\n",
              "    </tr>\n",
              "    <tr>\n",
              "      <th>Homo Heidelbergensis</th>\n",
              "      <td>175.131703</td>\n",
              "      <td>1299.876214</td>\n",
              "      <td>1751.317027</td>\n",
              "      <td>451.440812</td>\n",
              "    </tr>\n",
              "    <tr>\n",
              "      <th>Homo Naledi</th>\n",
              "      <td>130.081863</td>\n",
              "      <td>355.827746</td>\n",
              "      <td>1300.818627</td>\n",
              "      <td>944.990880</td>\n",
              "    </tr>\n",
              "    <tr>\n",
              "      <th>Homo Neanderthalensis\\n</th>\n",
              "      <td>159.863502</td>\n",
              "      <td>1100.143720</td>\n",
              "      <td>1598.635024</td>\n",
              "      <td>498.491304</td>\n",
              "    </tr>\n",
              "    <tr>\n",
              "      <th>Homo Rodhesiensis</th>\n",
              "      <td>150.059955</td>\n",
              "      <td>1097.314899</td>\n",
              "      <td>1500.599546</td>\n",
              "      <td>403.284647</td>\n",
              "    </tr>\n",
              "    <tr>\n",
              "      <th>Homo Rudolfensis</th>\n",
              "      <td>129.823354</td>\n",
              "      <td>679.859671</td>\n",
              "      <td>1298.233536</td>\n",
              "      <td>618.373865</td>\n",
              "    </tr>\n",
              "    <tr>\n",
              "      <th>Homo Sapiens</th>\n",
              "      <td>170.097394</td>\n",
              "      <td>1235.940823</td>\n",
              "      <td>1700.973941</td>\n",
              "      <td>465.033118</td>\n",
              "    </tr>\n",
              "    <tr>\n",
              "      <th>Paranthropus Aethiopicus</th>\n",
              "      <td>109.930573</td>\n",
              "      <td>452.221513</td>\n",
              "      <td>1099.305725</td>\n",
              "      <td>647.084213</td>\n",
              "    </tr>\n",
              "    <tr>\n",
              "      <th>Paranthropus Boisei</th>\n",
              "      <td>109.801203</td>\n",
              "      <td>500.870194</td>\n",
              "      <td>1098.012028</td>\n",
              "      <td>597.141834</td>\n",
              "    </tr>\n",
              "    <tr>\n",
              "      <th>Paranthropus Robustus</th>\n",
              "      <td>119.953410</td>\n",
              "      <td>496.803791</td>\n",
              "      <td>1199.534098</td>\n",
              "      <td>702.730307</td>\n",
              "    </tr>\n",
              "    <tr>\n",
              "      <th>hominino Ardipithecus ramidus / kabadda</th>\n",
              "      <td>109.993517</td>\n",
              "      <td>300.393117</td>\n",
              "      <td>1099.935173</td>\n",
              "      <td>799.542056</td>\n",
              "    </tr>\n",
              "    <tr>\n",
              "      <th>hominino Orrorin tugenencin</th>\n",
              "      <td>120.234905</td>\n",
              "      <td>150.347866</td>\n",
              "      <td>1202.349052</td>\n",
              "      <td>1052.001186</td>\n",
              "    </tr>\n",
              "    <tr>\n",
              "      <th>hominino Sahelanthropus tchadensis</th>\n",
              "      <td>90.020292</td>\n",
              "      <td>150.908532</td>\n",
              "      <td>900.202916</td>\n",
              "      <td>749.294384</td>\n",
              "    </tr>\n",
              "  </tbody>\n",
              "</table>\n",
              "</div>\n",
              "    <div class=\"colab-df-buttons\">\n",
              "\n",
              "  <div class=\"colab-df-container\">\n",
              "    <button class=\"colab-df-convert\" onclick=\"convertToInteractive('df-c4855876-703a-4fa9-ba8a-66c300854481')\"\n",
              "            title=\"Convert this dataframe to an interactive table.\"\n",
              "            style=\"display:none;\">\n",
              "\n",
              "  <svg xmlns=\"http://www.w3.org/2000/svg\" height=\"24px\" viewBox=\"0 -960 960 960\">\n",
              "    <path d=\"M120-120v-720h720v720H120Zm60-500h600v-160H180v160Zm220 220h160v-160H400v160Zm0 220h160v-160H400v160ZM180-400h160v-160H180v160Zm440 0h160v-160H620v160ZM180-180h160v-160H180v160Zm440 0h160v-160H620v160Z\"/>\n",
              "  </svg>\n",
              "    </button>\n",
              "\n",
              "  <style>\n",
              "    .colab-df-container {\n",
              "      display:flex;\n",
              "      gap: 12px;\n",
              "    }\n",
              "\n",
              "    .colab-df-convert {\n",
              "      background-color: #E8F0FE;\n",
              "      border: none;\n",
              "      border-radius: 50%;\n",
              "      cursor: pointer;\n",
              "      display: none;\n",
              "      fill: #1967D2;\n",
              "      height: 32px;\n",
              "      padding: 0 0 0 0;\n",
              "      width: 32px;\n",
              "    }\n",
              "\n",
              "    .colab-df-convert:hover {\n",
              "      background-color: #E2EBFA;\n",
              "      box-shadow: 0px 1px 2px rgba(60, 64, 67, 0.3), 0px 1px 3px 1px rgba(60, 64, 67, 0.15);\n",
              "      fill: #174EA6;\n",
              "    }\n",
              "\n",
              "    .colab-df-buttons div {\n",
              "      margin-bottom: 4px;\n",
              "    }\n",
              "\n",
              "    [theme=dark] .colab-df-convert {\n",
              "      background-color: #3B4455;\n",
              "      fill: #D2E3FC;\n",
              "    }\n",
              "\n",
              "    [theme=dark] .colab-df-convert:hover {\n",
              "      background-color: #434B5C;\n",
              "      box-shadow: 0px 1px 3px 1px rgba(0, 0, 0, 0.15);\n",
              "      filter: drop-shadow(0px 1px 2px rgba(0, 0, 0, 0.3));\n",
              "      fill: #FFFFFF;\n",
              "    }\n",
              "  </style>\n",
              "\n",
              "    <script>\n",
              "      const buttonEl =\n",
              "        document.querySelector('#df-c4855876-703a-4fa9-ba8a-66c300854481 button.colab-df-convert');\n",
              "      buttonEl.style.display =\n",
              "        google.colab.kernel.accessAllowed ? 'block' : 'none';\n",
              "\n",
              "      async function convertToInteractive(key) {\n",
              "        const element = document.querySelector('#df-c4855876-703a-4fa9-ba8a-66c300854481');\n",
              "        const dataTable =\n",
              "          await google.colab.kernel.invokeFunction('convertToInteractive',\n",
              "                                                    [key], {});\n",
              "        if (!dataTable) return;\n",
              "\n",
              "        const docLinkHtml = 'Like what you see? Visit the ' +\n",
              "          '<a target=\"_blank\" href=https://colab.research.google.com/notebooks/data_table.ipynb>data table notebook</a>'\n",
              "          + ' to learn more about interactive tables.';\n",
              "        element.innerHTML = '';\n",
              "        dataTable['output_type'] = 'display_data';\n",
              "        await google.colab.output.renderOutput(dataTable, element);\n",
              "        const docLink = document.createElement('div');\n",
              "        docLink.innerHTML = docLinkHtml;\n",
              "        element.appendChild(docLink);\n",
              "      }\n",
              "    </script>\n",
              "  </div>\n",
              "\n",
              "\n",
              "<div id=\"df-926c1ca1-1c0d-494e-8f33-be0e6fb88506\">\n",
              "  <button class=\"colab-df-quickchart\" onclick=\"quickchart('df-926c1ca1-1c0d-494e-8f33-be0e6fb88506')\"\n",
              "            title=\"Suggest charts\"\n",
              "            style=\"display:none;\">\n",
              "\n",
              "<svg xmlns=\"http://www.w3.org/2000/svg\" height=\"24px\"viewBox=\"0 0 24 24\"\n",
              "     width=\"24px\">\n",
              "    <g>\n",
              "        <path d=\"M19 3H5c-1.1 0-2 .9-2 2v14c0 1.1.9 2 2 2h14c1.1 0 2-.9 2-2V5c0-1.1-.9-2-2-2zM9 17H7v-7h2v7zm4 0h-2V7h2v10zm4 0h-2v-4h2v4z\"/>\n",
              "    </g>\n",
              "</svg>\n",
              "  </button>\n",
              "\n",
              "<style>\n",
              "  .colab-df-quickchart {\n",
              "      --bg-color: #E8F0FE;\n",
              "      --fill-color: #1967D2;\n",
              "      --hover-bg-color: #E2EBFA;\n",
              "      --hover-fill-color: #174EA6;\n",
              "      --disabled-fill-color: #AAA;\n",
              "      --disabled-bg-color: #DDD;\n",
              "  }\n",
              "\n",
              "  [theme=dark] .colab-df-quickchart {\n",
              "      --bg-color: #3B4455;\n",
              "      --fill-color: #D2E3FC;\n",
              "      --hover-bg-color: #434B5C;\n",
              "      --hover-fill-color: #FFFFFF;\n",
              "      --disabled-bg-color: #3B4455;\n",
              "      --disabled-fill-color: #666;\n",
              "  }\n",
              "\n",
              "  .colab-df-quickchart {\n",
              "    background-color: var(--bg-color);\n",
              "    border: none;\n",
              "    border-radius: 50%;\n",
              "    cursor: pointer;\n",
              "    display: none;\n",
              "    fill: var(--fill-color);\n",
              "    height: 32px;\n",
              "    padding: 0;\n",
              "    width: 32px;\n",
              "  }\n",
              "\n",
              "  .colab-df-quickchart:hover {\n",
              "    background-color: var(--hover-bg-color);\n",
              "    box-shadow: 0 1px 2px rgba(60, 64, 67, 0.3), 0 1px 3px 1px rgba(60, 64, 67, 0.15);\n",
              "    fill: var(--button-hover-fill-color);\n",
              "  }\n",
              "\n",
              "  .colab-df-quickchart-complete:disabled,\n",
              "  .colab-df-quickchart-complete:disabled:hover {\n",
              "    background-color: var(--disabled-bg-color);\n",
              "    fill: var(--disabled-fill-color);\n",
              "    box-shadow: none;\n",
              "  }\n",
              "\n",
              "  .colab-df-spinner {\n",
              "    border: 2px solid var(--fill-color);\n",
              "    border-color: transparent;\n",
              "    border-bottom-color: var(--fill-color);\n",
              "    animation:\n",
              "      spin 1s steps(1) infinite;\n",
              "  }\n",
              "\n",
              "  @keyframes spin {\n",
              "    0% {\n",
              "      border-color: transparent;\n",
              "      border-bottom-color: var(--fill-color);\n",
              "      border-left-color: var(--fill-color);\n",
              "    }\n",
              "    20% {\n",
              "      border-color: transparent;\n",
              "      border-left-color: var(--fill-color);\n",
              "      border-top-color: var(--fill-color);\n",
              "    }\n",
              "    30% {\n",
              "      border-color: transparent;\n",
              "      border-left-color: var(--fill-color);\n",
              "      border-top-color: var(--fill-color);\n",
              "      border-right-color: var(--fill-color);\n",
              "    }\n",
              "    40% {\n",
              "      border-color: transparent;\n",
              "      border-right-color: var(--fill-color);\n",
              "      border-top-color: var(--fill-color);\n",
              "    }\n",
              "    60% {\n",
              "      border-color: transparent;\n",
              "      border-right-color: var(--fill-color);\n",
              "    }\n",
              "    80% {\n",
              "      border-color: transparent;\n",
              "      border-right-color: var(--fill-color);\n",
              "      border-bottom-color: var(--fill-color);\n",
              "    }\n",
              "    90% {\n",
              "      border-color: transparent;\n",
              "      border-bottom-color: var(--fill-color);\n",
              "    }\n",
              "  }\n",
              "</style>\n",
              "\n",
              "  <script>\n",
              "    async function quickchart(key) {\n",
              "      const quickchartButtonEl =\n",
              "        document.querySelector('#' + key + ' button');\n",
              "      quickchartButtonEl.disabled = true;  // To prevent multiple clicks.\n",
              "      quickchartButtonEl.classList.add('colab-df-spinner');\n",
              "      try {\n",
              "        const charts = await google.colab.kernel.invokeFunction(\n",
              "            'suggestCharts', [key], {});\n",
              "      } catch (error) {\n",
              "        console.error('Error during call to suggestCharts:', error);\n",
              "      }\n",
              "      quickchartButtonEl.classList.remove('colab-df-spinner');\n",
              "      quickchartButtonEl.classList.add('colab-df-quickchart-complete');\n",
              "    }\n",
              "    (() => {\n",
              "      let quickchartButtonEl =\n",
              "        document.querySelector('#df-926c1ca1-1c0d-494e-8f33-be0e6fb88506 button');\n",
              "      quickchartButtonEl.style.display =\n",
              "        google.colab.kernel.accessAllowed ? 'block' : 'none';\n",
              "    })();\n",
              "  </script>\n",
              "</div>\n",
              "\n",
              "  <div id=\"id_b68097b9-0ee1-4698-af8d-5a8fd1384008\">\n",
              "    <style>\n",
              "      .colab-df-generate {\n",
              "        background-color: #E8F0FE;\n",
              "        border: none;\n",
              "        border-radius: 50%;\n",
              "        cursor: pointer;\n",
              "        display: none;\n",
              "        fill: #1967D2;\n",
              "        height: 32px;\n",
              "        padding: 0 0 0 0;\n",
              "        width: 32px;\n",
              "      }\n",
              "\n",
              "      .colab-df-generate:hover {\n",
              "        background-color: #E2EBFA;\n",
              "        box-shadow: 0px 1px 2px rgba(60, 64, 67, 0.3), 0px 1px 3px 1px rgba(60, 64, 67, 0.15);\n",
              "        fill: #174EA6;\n",
              "      }\n",
              "\n",
              "      [theme=dark] .colab-df-generate {\n",
              "        background-color: #3B4455;\n",
              "        fill: #D2E3FC;\n",
              "      }\n",
              "\n",
              "      [theme=dark] .colab-df-generate:hover {\n",
              "        background-color: #434B5C;\n",
              "        box-shadow: 0px 1px 3px 1px rgba(0, 0, 0, 0.15);\n",
              "        filter: drop-shadow(0px 1px 2px rgba(0, 0, 0, 0.3));\n",
              "        fill: #FFFFFF;\n",
              "      }\n",
              "    </style>\n",
              "    <button class=\"colab-df-generate\" onclick=\"generateWithVariable('height_crancap')\"\n",
              "            title=\"Generate code using this dataframe.\"\n",
              "            style=\"display:none;\">\n",
              "\n",
              "  <svg xmlns=\"http://www.w3.org/2000/svg\" height=\"24px\"viewBox=\"0 0 24 24\"\n",
              "       width=\"24px\">\n",
              "    <path d=\"M7,19H8.4L18.45,9,17,7.55,7,17.6ZM5,21V16.75L18.45,3.32a2,2,0,0,1,2.83,0l1.4,1.43a1.91,1.91,0,0,1,.58,1.4,1.91,1.91,0,0,1-.58,1.4L9.25,21ZM18.45,9,17,7.55Zm-12,3A5.31,5.31,0,0,0,4.9,8.1,5.31,5.31,0,0,0,1,6.5,5.31,5.31,0,0,0,4.9,4.9,5.31,5.31,0,0,0,6.5,1,5.31,5.31,0,0,0,8.1,4.9,5.31,5.31,0,0,0,12,6.5,5.46,5.46,0,0,0,6.5,12Z\"/>\n",
              "  </svg>\n",
              "    </button>\n",
              "    <script>\n",
              "      (() => {\n",
              "      const buttonEl =\n",
              "        document.querySelector('#id_b68097b9-0ee1-4698-af8d-5a8fd1384008 button.colab-df-generate');\n",
              "      buttonEl.style.display =\n",
              "        google.colab.kernel.accessAllowed ? 'block' : 'none';\n",
              "\n",
              "      buttonEl.onclick = () => {\n",
              "        google.colab.notebook.generateWithVariable('height_crancap');\n",
              "      }\n",
              "      })();\n",
              "    </script>\n",
              "  </div>\n",
              "\n",
              "    </div>\n",
              "  </div>\n"
            ],
            "application/vnd.google.colaboratory.intrinsic+json": {
              "type": "dataframe",
              "variable_name": "height_crancap",
              "summary": "{\n  \"name\": \"height_crancap\",\n  \"rows\": 24,\n  \"fields\": [\n    {\n      \"column\": \"species\",\n      \"properties\": {\n        \"dtype\": \"string\",\n        \"num_unique_values\": 24,\n        \"samples\": [\n          \"Homo Ergaster\",\n          \"Homo Rudolfensis\",\n          \"Australopithecus Afarensis\"\n        ],\n        \"semantic_type\": \"\",\n        \"description\": \"\"\n      }\n    },\n    {\n      \"column\": \"height(cm)\",\n      \"properties\": {\n        \"dtype\": \"number\",\n        \"std\": 24.372187999230917,\n        \"min\": 90.02029156,\n        \"max\": 175.13170266,\n        \"num_unique_values\": 24,\n        \"samples\": [\n          159.86829372,\n          129.82335362,\n          129.78033286\n        ],\n        \"semantic_type\": \"\",\n        \"description\": \"\"\n      }\n    },\n    {\n      \"column\": \"cranial capacity(mm)\",\n      \"properties\": {\n        \"dtype\": \"number\",\n        \"std\": 352.982525663847,\n        \"min\": 150.34786636,\n        \"max\": 1299.87621438,\n        \"num_unique_values\": 24,\n        \"samples\": [\n          839.93015006,\n          679.85967124,\n          345.21379252\n        ],\n        \"semantic_type\": \"\",\n        \"description\": \"\"\n      }\n    },\n    {\n      \"column\": \"height(mm)\",\n      \"properties\": {\n        \"dtype\": \"number\",\n        \"std\": 243.72187999230917,\n        \"min\": 900.2029156000001,\n        \"max\": 1751.3170266,\n        \"num_unique_values\": 24,\n        \"samples\": [\n          1598.6829372,\n          1298.2335362000001,\n          1297.8033286\n        ],\n        \"semantic_type\": \"\",\n        \"description\": \"\"\n      }\n    },\n    {\n      \"column\": \"comp\",\n      \"properties\": {\n        \"dtype\": \"number\",\n        \"std\": 172.26231600029928,\n        \"min\": 403.2846471600001,\n        \"max\": 1052.00118604,\n        \"num_unique_values\": 24,\n        \"samples\": [\n          758.75278714,\n          618.3738649600001,\n          952.58953608\n        ],\n        \"semantic_type\": \"\",\n        \"description\": \"\"\n      }\n    }\n  ]\n}"
            }
          },
          "metadata": {},
          "execution_count": 43
        }
      ]
    },
    {
      "cell_type": "code",
      "source": [
        "# What does a cranial capacity larger than 800 cubic centimeters indicate about incisor size?\n",
        "cran_cap_800 = df[df['cranial capacity(mm)']>800]\n",
        "cran_cap_800.groupby('incisor size').count()['species']"
      ],
      "metadata": {
        "colab": {
          "base_uri": "https://localhost:8080/"
        },
        "id": "41vVYApMVnAO",
        "outputId": "79b85294-a86c-4cf0-f5f8-04f7fa41f568"
      },
      "execution_count": 57,
      "outputs": [
        {
          "output_type": "execute_result",
          "data": {
            "text/plain": [
              "incisor size\n",
              "big             1000\n",
              "medium large     600\n",
              "small            701\n",
              "very small      1320\n",
              "Name: species, dtype: int64"
            ]
          },
          "metadata": {},
          "execution_count": 57
        }
      ]
    },
    {
      "cell_type": "code",
      "source": [
        "# How much did the height of each specie vary? Subtract the smallest from the largest height\n",
        "df.groupby('species').apply(lambda i:i['height(cm)'].max()-i['height(cm)'].min())"
      ],
      "metadata": {
        "colab": {
          "base_uri": "https://localhost:8080/"
        },
        "id": "OaV0Ujg8VrID",
        "outputId": "1f4fec6e-a604-4bac-c11e-ef3eda7dd7c7"
      },
      "execution_count": 46,
      "outputs": [
        {
          "output_type": "execute_result",
          "data": {
            "text/plain": [
              "species\n",
              "Australopithecus Afarensis                 19.93044\n",
              "Australopithecus Africanus                 19.89398\n",
              "Australopithecus Anamensis                 19.90618\n",
              "Australopithecus Bahrelghazali             19.89571\n",
              "Australopithecus Garhi                     19.93553\n",
              "Australopithecus Sediba                    19.87383\n",
              "Homo Antecesor                             19.91176\n",
              "Homo Erectus                               19.93325\n",
              "Homo Ergaster                              19.92464\n",
              "Homo Floresiensis                          19.97015\n",
              "Homo Georgicus                             19.97194\n",
              "Homo Habilis                               19.88363\n",
              "Homo Heidelbergensis                       19.97762\n",
              "Homo Naledi                                19.93059\n",
              "Homo Neanderthalensis\\n                    19.90437\n",
              "Homo Rodhesiensis                          19.68947\n",
              "Homo Rudolfensis                           19.96614\n",
              "Homo Sapiens                               19.90347\n",
              "Paranthropus Aethiopicus                   19.92548\n",
              "Paranthropus Boisei                        19.89865\n",
              "Paranthropus Robustus                      19.92820\n",
              "hominino Ardipithecus ramidus / kabadda    19.84725\n",
              "hominino Orrorin tugenencin                19.95519\n",
              "hominino Sahelanthropus tchadensis         19.94793\n",
              "dtype: float64"
            ]
          },
          "metadata": {},
          "execution_count": 46
        }
      ]
    },
    {
      "cell_type": "markdown",
      "source": [
        "## Explanation and Plot\n",
        "For the relationship between height and cranial capacity, there is a greater range in cranial capacity than height, indicating more change over time in cranial capacity. A greater cranial capacity seems to indicate a hominid will be shorter in most cases. For incisor size when cranial capacity is greater than 800 cm, it is difficult to make a conclusion, as incisor size varies. While most hominids have very small incisors, the second largest group is big incisors. This indicates that there is most likely not a relationship between incisor size and cranial capacity. Looking at the variation in height of each species, it is clear that there is similar variations of height for all species. This indicates height is a indentifiying factor of each species. Each species can be defind by a range of heights."
      ],
      "metadata": {
        "id": "pUfpJjI7V0dl"
      }
    },
    {
      "cell_type": "code",
      "source": [
        "import matplotlib.pyplot as plt\n",
        "# species at average heights\n",
        "avg_height = df.groupby('species')['height(cm)'].mean()\n",
        "avg_height = pd.DataFrame(avg_height)\n",
        "avg_height.reset_index(inplace=True)\n",
        "y = avg_height['height(cm)']\n",
        "x = avg_height['species']\n",
        "\n",
        "plt.barh(x,y, color='c')\n",
        "plt.xlabel('height(cm)')\n",
        "plt.ylabel('species')\n",
        "plt.title('Average Heights of Hominid Species')"
      ],
      "metadata": {
        "colab": {
          "base_uri": "https://localhost:8080/",
          "height": 489
        },
        "id": "8FtYacfGGdNm",
        "outputId": "5112026d-5617-42d9-d8ef-41cd00ea4287"
      },
      "execution_count": 62,
      "outputs": [
        {
          "output_type": "execute_result",
          "data": {
            "text/plain": [
              "Text(0.5, 1.0, 'Average Heights of Hominid Species')"
            ]
          },
          "metadata": {},
          "execution_count": 62
        },
        {
          "output_type": "display_data",
          "data": {
            "text/plain": [
              "<Figure size 640x480 with 1 Axes>"
            ],
            "image/png": "[encoded data removed]"
          },
          "metadata": {}
        }
      ]
    },
    {
      "cell_type": "markdown",
      "source": [
        "# Cultural Factors"
      ],
      "metadata": {
        "id": "i38pvE88V26f"
      }
    },
    {
      "cell_type": "code",
      "source": [
        "# Given that a homonid migrated, how many were carnivores?\n",
        "df[(df.migrated=='yes') & (df.diet=='carnivorous')].count()['migrated']"
      ],
      "metadata": {
        "colab": {
          "base_uri": "https://localhost:8080/"
        },
        "id": "hIEAmoIzV6HY",
        "outputId": "d55b3878-3d44-4034-b541-12dd935185ac"
      },
      "execution_count": 69,
      "outputs": [
        {
          "output_type": "execute_result",
          "data": {
            "text/plain": [
              "500"
            ]
          },
          "metadata": {},
          "execution_count": 69
        }
      ]
    },
    {
      "cell_type": "code",
      "source": [
        "# Amongest the technologically advanced species, what is the most common diet? Least common?\n",
        "df[df.technology=='yes'].groupby(['species','diet'])['diet'].count()"
      ],
      "metadata": {
        "colab": {
          "base_uri": "https://localhost:8080/"
        },
        "id": "FkdW93osWClv",
        "outputId": "133fd568-1503-4e25-af69-aaa3d1ebb776"
      },
      "execution_count": 9,
      "outputs": [
        {
          "output_type": "execute_result",
          "data": {
            "text/plain": [
              "species                  diet       \n",
              "Homo Antecesor           omnivore       500\n",
              "Homo Erectus             omnivore       500\n",
              "Homo Ergaster            omnivore       500\n",
              "Homo Floresiensis        omnivore       500\n",
              "Homo Georgicus           omnivore       500\n",
              "Homo Habilis             omnivore       500\n",
              "Homo Heidelbergensis     carnivorous    500\n",
              "Homo Neanderthalensis\\n  carnivorous    500\n",
              "Homo Rodhesiensis        omnivore       500\n",
              "Homo Sapiens             carnivorous    500\n",
              "Name: diet, dtype: int64"
            ]
          },
          "metadata": {},
          "execution_count": 9
        }
      ]
    },
    {
      "cell_type": "code",
      "source": [
        "# Given that a hominid was not technologically advanced, did they migrate? Is migration  more or less likely?\n",
        "df3 = df[df.technology=='no'][['species','migrated']]\n",
        "print(df3[df3.migrated=='no'].count()['migrated'])\n",
        "print(df3.shape)"
      ],
      "metadata": {
        "colab": {
          "base_uri": "https://localhost:8080/"
        },
        "id": "8UpUERhUWJuI",
        "outputId": "2b13cb29-86bb-49a2-e8a3-917ecc9faff8"
      },
      "execution_count": 10,
      "outputs": [
        {
          "output_type": "stream",
          "name": "stdout",
          "text": [
            "6500\n",
            "(6500, 2)\n"
          ]
        }
      ]
    },
    {
      "cell_type": "markdown",
      "source": [
        "## Explanation and Plot\n",
        "Out of hominids that migrated, only 500 are carnivores. This is a small number compared to the total hominids that migrated, which was 3000. This indicates there was a more common diet among species that migrated. For the technologically advanced species, it is evident that onmivore was the most common diet. The least common diet was carnivorous. This indicates that all technologically advanced species ate meat. Lastly, Species that were not technologically advanced did not migrate. The count of species who were not technologically advanced and did not migrate is the same number as species who were not technologically advanced."
      ],
      "metadata": {
        "id": "cash3P-KWOyY"
      }
    },
    {
      "cell_type": "code",
      "source": [
        "# scatter plot of diets of species that are technologically advanced\n",
        "y = df[df.technology=='yes']['species']\n",
        "x = df[df.technology=='yes']['diet']\n",
        "plt.scatter(x,y,color='r')\n",
        "plt.xlabel('Diet')\n",
        "plt.ylabel('Species')\n",
        "plt.title('Diet of Technologically Advanced Species')"
      ],
      "metadata": {
        "colab": {
          "base_uri": "https://localhost:8080/",
          "height": 489
        },
        "id": "AX0e5_LhWQ15",
        "outputId": "f4ed70ea-45ba-46ba-ea30-9740167a7830"
      },
      "execution_count": 66,
      "outputs": [
        {
          "output_type": "execute_result",
          "data": {
            "text/plain": [
              "Text(0.5, 1.0, 'Diet of Technologically Advanced Species')"
            ]
          },
          "metadata": {},
          "execution_count": 66
        },
        {
          "output_type": "display_data",
          "data": {
            "text/plain": [
              "<Figure size 640x480 with 1 Axes>"
            ],
            "image/png": "[encoded data removed]"
          },
          "metadata": {}
        }
      ]
    },
    {
      "cell_type": "markdown",
      "source": [
        "# Intersection of Demographic, Cultural, and Physical Factors"
      ],
      "metadata": {
        "id": "YN63X8vMWVVN"
      }
    },
    {
      "cell_type": "code",
      "source": [
        "# For each habitat, what was the most common diet? Least?\n",
        "df0 = pd.read_csv('df0 = pd.read_csv('https://raw.githubusercontent.com/niamhmc1/DSCI-235-Final-Project/main/Evolution_DataSets%20(1).csv')
        import sqlite3
        conn = sqlite3.connect('df0.db')
        df0.to_sql('df01',conn)')\n",
        "import sqlite3\n",
        "conn = sqlite3.connect('df0.db')\n",
        "df0.to_sql('df01',conn)"
      ],
      "metadata": {
        "colab": {
          "base_uri": "https://localhost:8080/",
          "height": 321
        },
        "id": "SvqCHqF4Wd_J",
        "outputId": "46f31084-d281-400e-846a-830cd8d0f2da"
      },
      "execution_count": 78,
      "outputs": [
        {
          "output_type": "error",
          "ename": "ValueError",
          "evalue": "Table 'df0' already exists.",
          "traceback": [
            "\u001b[0;31m---------------------------------------------------------------------------\u001b[0m",
            "\u001b[0;31mValueError\u001b[0m                                Traceback (most recent call last)",
            "\u001b[0;32m<ipython-input-78-fe5f318c11e8>\u001b[0m in \u001b[0;36m<cell line: 5>\u001b[0;34m()\u001b[0m\n\u001b[1;32m      3\u001b[0m \u001b[0;32mimport\u001b[0m \u001b[0msqlite3\u001b[0m\u001b[0;34m\u001b[0m\u001b[0;34m\u001b[0m\u001b[0m\n\u001b[1;32m      4\u001b[0m \u001b[0mconn\u001b[0m \u001b[0;34m=\u001b[0m \u001b[0msqlite3\u001b[0m\u001b[0;34m.\u001b[0m\u001b[0mconnect\u001b[0m\u001b[0;34m(\u001b[0m\u001b[0;34m'df0.db'\u001b[0m\u001b[0;34m)\u001b[0m\u001b[0;34m\u001b[0m\u001b[0;34m\u001b[0m\u001b[0m\n\u001b[0;32m----> 5\u001b[0;31m \u001b[0mdf0\u001b[0m\u001b[0;34m.\u001b[0m\u001b[0mto_sql\u001b[0m\u001b[0;34m(\u001b[0m\u001b[0;34m'df0'\u001b[0m\u001b[0;34m,\u001b[0m\u001b[0mconn\u001b[0m\u001b[0;34m)\u001b[0m\u001b[0;34m\u001b[0m\u001b[0;34m\u001b[0m\u001b[0m\n\u001b[0m",
            "\u001b[0;32m/usr/local/lib/python3.10/dist-packages/pandas/core/generic.py\u001b[0m in \u001b[0;36mto_sql\u001b[0;34m(self, name, con, schema, if_exists, index, index_label, chunksize, dtype, method)\u001b[0m\n\u001b[1;32m   2876\u001b[0m         \u001b[0;32mfrom\u001b[0m \u001b[0mpandas\u001b[0m\u001b[0;34m.\u001b[0m\u001b[0mio\u001b[0m \u001b[0;32mimport\u001b[0m \u001b[0msql\u001b[0m\u001b[0;34m\u001b[0m\u001b[0;34m\u001b[0m\u001b[0m\n\u001b[1;32m   2877\u001b[0m \u001b[0;34m\u001b[0m\u001b[0m\n\u001b[0;32m-> 2878\u001b[0;31m         return sql.to_sql(\n\u001b[0m\u001b[1;32m   2879\u001b[0m             \u001b[0mself\u001b[0m\u001b[0;34m,\u001b[0m\u001b[0;34m\u001b[0m\u001b[0;34m\u001b[0m\u001b[0m\n\u001b[1;32m   2880\u001b[0m             \u001b[0mname\u001b[0m\u001b[0;34m,\u001b[0m\u001b[0;34m\u001b[0m\u001b[0;34m\u001b[0m\u001b[0m\n",
            "\u001b[0;32m/usr/local/lib/python3.10/dist-packages/pandas/io/sql.py\u001b[0m in \u001b[0;36mto_sql\u001b[0;34m(frame, name, con, schema, if_exists, index, index_label, chunksize, dtype, method, engine, **engine_kwargs)\u001b[0m\n\u001b[1;32m    767\u001b[0m \u001b[0;34m\u001b[0m\u001b[0m\n\u001b[1;32m    768\u001b[0m     \u001b[0;32mwith\u001b[0m \u001b[0mpandasSQL_builder\u001b[0m\u001b[0;34m(\u001b[0m\u001b[0mcon\u001b[0m\u001b[0;34m,\u001b[0m \u001b[0mschema\u001b[0m\u001b[0;34m=\u001b[0m\u001b[0mschema\u001b[0m\u001b[0;34m,\u001b[0m \u001b[0mneed_transaction\u001b[0m\u001b[0;34m=\u001b[0m\u001b[0;32mTrue\u001b[0m\u001b[0;34m)\u001b[0m \u001b[0;32mas\u001b[0m \u001b[0mpandas_sql\u001b[0m\u001b[0;34m:\u001b[0m\u001b[0;34m\u001b[0m\u001b[0;34m\u001b[0m\u001b[0m\n\u001b[0;32m--> 769\u001b[0;31m         return pandas_sql.to_sql(\n\u001b[0m\u001b[1;32m    770\u001b[0m             \u001b[0mframe\u001b[0m\u001b[0;34m,\u001b[0m\u001b[0;34m\u001b[0m\u001b[0;34m\u001b[0m\u001b[0m\n\u001b[1;32m    771\u001b[0m             \u001b[0mname\u001b[0m\u001b[0;34m,\u001b[0m\u001b[0;34m\u001b[0m\u001b[0;34m\u001b[0m\u001b[0m\n",
            "\u001b[0;32m/usr/local/lib/python3.10/dist-packages/pandas/io/sql.py\u001b[0m in \u001b[0;36mto_sql\u001b[0;34m(self, frame, name, if_exists, index, index_label, schema, chunksize, dtype, method, engine, **engine_kwargs)\u001b[0m\n\u001b[1;32m   2376\u001b[0m             \u001b[0mdtype\u001b[0m\u001b[0;34m=\u001b[0m\u001b[0mdtype\u001b[0m\u001b[0;34m,\u001b[0m\u001b[0;34m\u001b[0m\u001b[0;34m\u001b[0m\u001b[0m\n\u001b[1;32m   2377\u001b[0m         )\n\u001b[0;32m-> 2378\u001b[0;31m         \u001b[0mtable\u001b[0m\u001b[0;34m.\u001b[0m\u001b[0mcreate\u001b[0m\u001b[0;34m(\u001b[0m\u001b[0;34m)\u001b[0m\u001b[0;34m\u001b[0m\u001b[0;34m\u001b[0m\u001b[0m\n\u001b[0m\u001b[1;32m   2379\u001b[0m         \u001b[0;32mreturn\u001b[0m \u001b[0mtable\u001b[0m\u001b[0;34m.\u001b[0m\u001b[0minsert\u001b[0m\u001b[0;34m(\u001b[0m\u001b[0mchunksize\u001b[0m\u001b[0;34m,\u001b[0m \u001b[0mmethod\u001b[0m\u001b[0;34m)\u001b[0m\u001b[0;34m\u001b[0m\u001b[0;34m\u001b[0m\u001b[0m\n\u001b[1;32m   2380\u001b[0m \u001b[0;34m\u001b[0m\u001b[0m\n",
            "\u001b[0;32m/usr/local/lib/python3.10/dist-packages/pandas/io/sql.py\u001b[0m in \u001b[0;36mcreate\u001b[0;34m(self)\u001b[0m\n\u001b[1;32m    903\u001b[0m         \u001b[0;32mif\u001b[0m \u001b[0mself\u001b[0m\u001b[0;34m.\u001b[0m\u001b[0mexists\u001b[0m\u001b[0;34m(\u001b[0m\u001b[0;34m)\u001b[0m\u001b[0;34m:\u001b[0m\u001b[0;34m\u001b[0m\u001b[0;34m\u001b[0m\u001b[0m\n\u001b[1;32m    904\u001b[0m             \u001b[0;32mif\u001b[0m \u001b[0mself\u001b[0m\u001b[0;34m.\u001b[0m\u001b[0mif_exists\u001b[0m \u001b[0;34m==\u001b[0m \u001b[0;34m\"fail\"\u001b[0m\u001b[0;34m:\u001b[0m\u001b[0;34m\u001b[0m\u001b[0;34m\u001b[0m\u001b[0m\n\u001b[0;32m--> 905\u001b[0;31m                 \u001b[0;32mraise\u001b[0m \u001b[0mValueError\u001b[0m\u001b[0;34m(\u001b[0m\u001b[0;34mf\"Table '{self.name}' already exists.\"\u001b[0m\u001b[0;34m)\u001b[0m\u001b[0;34m\u001b[0m\u001b[0;34m\u001b[0m\u001b[0m\n\u001b[0m\u001b[1;32m    906\u001b[0m             \u001b[0;32mif\u001b[0m \u001b[0mself\u001b[0m\u001b[0;34m.\u001b[0m\u001b[0mif_exists\u001b[0m \u001b[0;34m==\u001b[0m \u001b[0;34m\"replace\"\u001b[0m\u001b[0;34m:\u001b[0m\u001b[0;34m\u001b[0m\u001b[0;34m\u001b[0m\u001b[0m\n\u001b[1;32m    907\u001b[0m                 \u001b[0mself\u001b[0m\u001b[0;34m.\u001b[0m\u001b[0mpd_sql\u001b[0m\u001b[0;34m.\u001b[0m\u001b[0mdrop_table\u001b[0m\u001b[0;34m(\u001b[0m\u001b[0mself\u001b[0m\u001b[0;34m.\u001b[0m\u001b[0mname\u001b[0m\u001b[0;34m,\u001b[0m \u001b[0mself\u001b[0m\u001b[0;34m.\u001b[0m\u001b[0mschema\u001b[0m\u001b[0;34m)\u001b[0m\u001b[0;34m\u001b[0m\u001b[0;34m\u001b[0m\u001b[0m\n",
            "\u001b[0;31mValueError\u001b[0m: Table 'df0' already exists."
          ]
        }
      ]
    },
    {
      "cell_type": "code",
      "source": [
        "query = 'SELECT diet,habitat,COUNT(diet) FROM df0 GROUP BY habitat'\n",
        "pd.read_sql_query(query,conn)"
      ],
      "metadata": {
        "colab": {
          "base_uri": "https://localhost:8080/",
          "height": 300
        },
        "id": "kJrgS7zySeH5",
        "outputId": "ac368247-a07f-4e9b-f3fb-9f2f29ef1f95"
      },
      "execution_count": 80,
      "outputs": [
        {
          "output_type": "execute_result",
          "data": {
            "text/plain": [
              "          Diet         Habitat  COUNT(diet)\n",
              "0  carnivorous     cold forest         1000\n",
              "1   dry fruits          forest         1000\n",
              "2   dry fruits  forest-gallery         1000\n",
              "3  hard fruits  forest-savanna          500\n",
              "4     omnivore          jungle         1000\n",
              "5  soft fruits           mixed         3000\n",
              "6     omnivore      peninsular          500\n",
              "7     omnivore        savannah         4000"
            ],
            "text/html": [
              "\n",
              "  <div id=\"df-d3c0ac75-2a16-4683-8fbe-b3461ba932c4\" class=\"colab-df-container\">\n",
              "    <div>\n",
              "<style scoped>\n",
              "    .dataframe tbody tr th:only-of-type {\n",
              "        vertical-align: middle;\n",
              "    }\n",
              "\n",
              "    .dataframe tbody tr th {\n",
              "        vertical-align: top;\n",
              "    }\n",
              "\n",
              "    .dataframe thead th {\n",
              "        text-align: right;\n",
              "    }\n",
              "</style>\n",
              "<table border=\"1\" class=\"dataframe\">\n",
              "  <thead>\n",
              "    <tr style=\"text-align: right;\">\n",
              "      <th></th>\n",
              "      <th>Diet</th>\n",
              "      <th>Habitat</th>\n",
              "      <th>COUNT(diet)</th>\n",
              "    </tr>\n",
              "  </thead>\n",
              "  <tbody>\n",
              "    <tr>\n",
              "      <th>0</th>\n",
              "      <td>carnivorous</td>\n",
              "      <td>cold forest</td>\n",
              "      <td>1000</td>\n",
              "    </tr>\n",
              "    <tr>\n",
              "      <th>1</th>\n",
              "      <td>dry fruits</td>\n",
              "      <td>forest</td>\n",
              "      <td>1000</td>\n",
              "    </tr>\n",
              "    <tr>\n",
              "      <th>2</th>\n",
              "      <td>dry fruits</td>\n",
              "      <td>forest-gallery</td>\n",
              "      <td>1000</td>\n",
              "    </tr>\n",
              "    <tr>\n",
              "      <th>3</th>\n",
              "      <td>hard fruits</td>\n",
              "      <td>forest-savanna</td>\n",
              "      <td>500</td>\n",
              "    </tr>\n",
              "    <tr>\n",
              "      <th>4</th>\n",
              "      <td>omnivore</td>\n",
              "      <td>jungle</td>\n",
              "      <td>1000</td>\n",
              "    </tr>\n",
              "    <tr>\n",
              "      <th>5</th>\n",
              "      <td>soft fruits</td>\n",
              "      <td>mixed</td>\n",
              "      <td>3000</td>\n",
              "    </tr>\n",
              "    <tr>\n",
              "      <th>6</th>\n",
              "      <td>omnivore</td>\n",
              "      <td>peninsular</td>\n",
              "      <td>500</td>\n",
              "    </tr>\n",
              "    <tr>\n",
              "      <th>7</th>\n",
              "      <td>omnivore</td>\n",
              "      <td>savannah</td>\n",
              "      <td>4000</td>\n",
              "    </tr>\n",
              "  </tbody>\n",
              "</table>\n",
              "</div>\n",
              "    <div class=\"colab-df-buttons\">\n",
              "\n",
              "  <div class=\"colab-df-container\">\n",
              "    <button class=\"colab-df-convert\" onclick=\"convertToInteractive('df-d3c0ac75-2a16-4683-8fbe-b3461ba932c4')\"\n",
              "            title=\"Convert this dataframe to an interactive table.\"\n",
              "            style=\"display:none;\">\n",
              "\n",
              "  <svg xmlns=\"http://www.w3.org/2000/svg\" height=\"24px\" viewBox=\"0 -960 960 960\">\n",
              "    <path d=\"M120-120v-720h720v720H120Zm60-500h600v-160H180v160Zm220 220h160v-160H400v160Zm0 220h160v-160H400v160ZM180-400h160v-160H180v160Zm440 0h160v-160H620v160ZM180-180h160v-160H180v160Zm440 0h160v-160H620v160Z\"/>\n",
              "  </svg>\n",
              "    </button>\n",
              "\n",
              "  <style>\n",
              "    .colab-df-container {\n",
              "      display:flex;\n",
              "      gap: 12px;\n",
              "    }\n",
              "\n",
              "    .colab-df-convert {\n",
              "      background-color: #E8F0FE;\n",
              "      border: none;\n",
              "      border-radius: 50%;\n",
              "      cursor: pointer;\n",
              "      display: none;\n",
              "      fill: #1967D2;\n",
              "      height: 32px;\n",
              "      padding: 0 0 0 0;\n",
              "      width: 32px;\n",
              "    }\n",
              "\n",
              "    .colab-df-convert:hover {\n",
              "      background-color: #E2EBFA;\n",
              "      box-shadow: 0px 1px 2px rgba(60, 64, 67, 0.3), 0px 1px 3px 1px rgba(60, 64, 67, 0.15);\n",
              "      fill: #174EA6;\n",
              "    }\n",
              "\n",
              "    .colab-df-buttons div {\n",
              "      margin-bottom: 4px;\n",
              "    }\n",
              "\n",
              "    [theme=dark] .colab-df-convert {\n",
              "      background-color: #3B4455;\n",
              "      fill: #D2E3FC;\n",
              "    }\n",
              "\n",
              "    [theme=dark] .colab-df-convert:hover {\n",
              "      background-color: #434B5C;\n",
              "      box-shadow: 0px 1px 3px 1px rgba(0, 0, 0, 0.15);\n",
              "      filter: drop-shadow(0px 1px 2px rgba(0, 0, 0, 0.3));\n",
              "      fill: #FFFFFF;\n",
              "    }\n",
              "  </style>\n",
              "\n",
              "    <script>\n",
              "      const buttonEl =\n",
              "        document.querySelector('#df-d3c0ac75-2a16-4683-8fbe-b3461ba932c4 button.colab-df-convert');\n",
              "      buttonEl.style.display =\n",
              "        google.colab.kernel.accessAllowed ? 'block' : 'none';\n",
              "\n",
              "      async function convertToInteractive(key) {\n",
              "        const element = document.querySelector('#df-d3c0ac75-2a16-4683-8fbe-b3461ba932c4');\n",
              "        const dataTable =\n",
              "          await google.colab.kernel.invokeFunction('convertToInteractive',\n",
              "                                                    [key], {});\n",
              "        if (!dataTable) return;\n",
              "\n",
              "        const docLinkHtml = 'Like what you see? Visit the ' +\n",
              "          '<a target=\"_blank\" href=https://colab.research.google.com/notebooks/data_table.ipynb>data table notebook</a>'\n",
              "          + ' to learn more about interactive tables.';\n",
              "        element.innerHTML = '';\n",
              "        dataTable['output_type'] = 'display_data';\n",
              "        await google.colab.output.renderOutput(dataTable, element);\n",
              "        const docLink = document.createElement('div');\n",
              "        docLink.innerHTML = docLinkHtml;\n",
              "        element.appendChild(docLink);\n",
              "      }\n",
              "    </script>\n",
              "  </div>\n",
              "\n",
              "\n",
              "<div id=\"df-073c6280-f2f1-4e61-b1eb-a50d1f9aa8c7\">\n",
              "  <button class=\"colab-df-quickchart\" onclick=\"quickchart('df-073c6280-f2f1-4e61-b1eb-a50d1f9aa8c7')\"\n",
              "            title=\"Suggest charts\"\n",
              "            style=\"display:none;\">\n",
              "\n",
              "<svg xmlns=\"http://www.w3.org/2000/svg\" height=\"24px\"viewBox=\"0 0 24 24\"\n",
              "     width=\"24px\">\n",
              "    <g>\n",
              "        <path d=\"M19 3H5c-1.1 0-2 .9-2 2v14c0 1.1.9 2 2 2h14c1.1 0 2-.9 2-2V5c0-1.1-.9-2-2-2zM9 17H7v-7h2v7zm4 0h-2V7h2v10zm4 0h-2v-4h2v4z\"/>\n",
              "    </g>\n",
              "</svg>\n",
              "  </button>\n",
              "\n",
              "<style>\n",
              "  .colab-df-quickchart {\n",
              "      --bg-color: #E8F0FE;\n",
              "      --fill-color: #1967D2;\n",
              "      --hover-bg-color: #E2EBFA;\n",
              "      --hover-fill-color: #174EA6;\n",
              "      --disabled-fill-color: #AAA;\n",
              "      --disabled-bg-color: #DDD;\n",
              "  }\n",
              "\n",
              "  [theme=dark] .colab-df-quickchart {\n",
              "      --bg-color: #3B4455;\n",
              "      --fill-color: #D2E3FC;\n",
              "      --hover-bg-color: #434B5C;\n",
              "      --hover-fill-color: #FFFFFF;\n",
              "      --disabled-bg-color: #3B4455;\n",
              "      --disabled-fill-color: #666;\n",
              "  }\n",
              "\n",
              "  .colab-df-quickchart {\n",
              "    background-color: var(--bg-color);\n",
              "    border: none;\n",
              "    border-radius: 50%;\n",
              "    cursor: pointer;\n",
              "    display: none;\n",
              "    fill: var(--fill-color);\n",
              "    height: 32px;\n",
              "    padding: 0;\n",
              "    width: 32px;\n",
              "  }\n",
              "\n",
              "  .colab-df-quickchart:hover {\n",
              "    background-color: var(--hover-bg-color);\n",
              "    box-shadow: 0 1px 2px rgba(60, 64, 67, 0.3), 0 1px 3px 1px rgba(60, 64, 67, 0.15);\n",
              "    fill: var(--button-hover-fill-color);\n",
              "  }\n",
              "\n",
              "  .colab-df-quickchart-complete:disabled,\n",
              "  .colab-df-quickchart-complete:disabled:hover {\n",
              "    background-color: var(--disabled-bg-color);\n",
              "    fill: var(--disabled-fill-color);\n",
              "    box-shadow: none;\n",
              "  }\n",
              "\n",
              "  .colab-df-spinner {\n",
              "    border: 2px solid var(--fill-color);\n",
              "    border-color: transparent;\n",
              "    border-bottom-color: var(--fill-color);\n",
              "    animation:\n",
              "      spin 1s steps(1) infinite;\n",
              "  }\n",
              "\n",
              "  @keyframes spin {\n",
              "    0% {\n",
              "      border-color: transparent;\n",
              "      border-bottom-color: var(--fill-color);\n",
              "      border-left-color: var(--fill-color);\n",
              "    }\n",
              "    20% {\n",
              "      border-color: transparent;\n",
              "      border-left-color: var(--fill-color);\n",
              "      border-top-color: var(--fill-color);\n",
              "    }\n",
              "    30% {\n",
              "      border-color: transparent;\n",
              "      border-left-color: var(--fill-color);\n",
              "      border-top-color: var(--fill-color);\n",
              "      border-right-color: var(--fill-color);\n",
              "    }\n",
              "    40% {\n",
              "      border-color: transparent;\n",
              "      border-right-color: var(--fill-color);\n",
              "      border-top-color: var(--fill-color);\n",
              "    }\n",
              "    60% {\n",
              "      border-color: transparent;\n",
              "      border-right-color: var(--fill-color);\n",
              "    }\n",
              "    80% {\n",
              "      border-color: transparent;\n",
              "      border-right-color: var(--fill-color);\n",
              "      border-bottom-color: var(--fill-color);\n",
              "    }\n",
              "    90% {\n",
              "      border-color: transparent;\n",
              "      border-bottom-color: var(--fill-color);\n",
              "    }\n",
              "  }\n",
              "</style>\n",
              "\n",
              "  <script>\n",
              "    async function quickchart(key) {\n",
              "      const quickchartButtonEl =\n",
              "        document.querySelector('#' + key + ' button');\n",
              "      quickchartButtonEl.disabled = true;  // To prevent multiple clicks.\n",
              "      quickchartButtonEl.classList.add('colab-df-spinner');\n",
              "      try {\n",
              "        const charts = await google.colab.kernel.invokeFunction(\n",
              "            'suggestCharts', [key], {});\n",
              "      } catch (error) {\n",
              "        console.error('Error during call to suggestCharts:', error);\n",
              "      }\n",
              "      quickchartButtonEl.classList.remove('colab-df-spinner');\n",
              "      quickchartButtonEl.classList.add('colab-df-quickchart-complete');\n",
              "    }\n",
              "    (() => {\n",
              "      let quickchartButtonEl =\n",
              "        document.querySelector('#df-073c6280-f2f1-4e61-b1eb-a50d1f9aa8c7 button');\n",
              "      quickchartButtonEl.style.display =\n",
              "        google.colab.kernel.accessAllowed ? 'block' : 'none';\n",
              "    })();\n",
              "  </script>\n",
              "</div>\n",
              "\n",
              "    </div>\n",
              "  </div>\n"
            ],
            "application/vnd.google.colaboratory.intrinsic+json": {
              "type": "dataframe",
              "summary": "{\n  \"name\": \"pd\",\n  \"rows\": 8,\n  \"fields\": [\n    {\n      \"column\": \"Diet\",\n      \"properties\": {\n        \"dtype\": \"string\",\n        \"num_unique_values\": 5,\n        \"samples\": [\n          \"dry fruits\",\n          \"soft fruits\",\n          \"hard fruits\"\n        ],\n        \"semantic_type\": \"\",\n        \"description\": \"\"\n      }\n    },\n    {\n      \"column\": \"Habitat\",\n      \"properties\": {\n        \"dtype\": \"string\",\n        \"num_unique_values\": 8,\n        \"samples\": [\n          \"forest\",\n          \"mixed\",\n          \"cold forest\"\n        ],\n        \"semantic_type\": \"\",\n        \"description\": \"\"\n      }\n    },\n    {\n      \"column\": \"COUNT(diet)\",\n      \"properties\": {\n        \"dtype\": \"number\",\n        \"std\": 1281,\n        \"min\": 500,\n        \"max\": 4000,\n        \"num_unique_values\": 4,\n        \"samples\": [\n          500,\n          4000,\n          1000\n        ],\n        \"semantic_type\": \"\",\n        \"description\": \"\"\n      }\n    }\n  ]\n}"
            }
          },
          "metadata": {},
          "execution_count": 80
        }
      ]
    },
    {
      "cell_type": "code",
      "source": [
        "# For each diet, what was the most common tooth enamel? Least?\n",
        "df.groupby(['diet','tooth enamel'])['tooth enamel'].count()"
      ],
      "metadata": {
        "colab": {
          "base_uri": "https://localhost:8080/"
        },
        "id": "ds5ejUnrWhOA",
        "outputId": "fbe31760-d2c8-4581-d07f-92436a6778f9"
      },
      "execution_count": 86,
      "outputs": [
        {
          "output_type": "execute_result",
          "data": {
            "text/plain": [
              "diet         tooth enamel\n",
              "carnivorous  thin            1000\n",
              "             very thin        500\n",
              "dry fruits   thick           3000\n",
              "hard fruits  thick            500\n",
              "             very thick      1500\n",
              "omnivore     medium-thick    1000\n",
              "             medium-thin     2500\n",
              "             thick           1000\n",
              "soft fruits  medium-thin      500\n",
              "             thick-medium     500\n",
              "Name: tooth enamel, dtype: int64"
            ]
          },
          "metadata": {},
          "execution_count": 86
        }
      ]
    },
    {
      "cell_type": "code",
      "source": [
        "# Which species was the shortest overall? Find smallest average height and the time they existed\n",
        "short_hominid = df.groupby('species')['height(cm)'].mean().idxmin()\n",
        "print('Shortest species: ', short_hominid)\n",
        "print('Time existed: ', df[df['species']=='hominino Sahelanthropus tchadensis']['time(mil)'].mean())"
      ],
      "metadata": {
        "colab": {
          "base_uri": "https://localhost:8080/"
        },
        "id": "OZRXtRCeWnag",
        "outputId": "c1e2d617-3d63-4d80-d773-3a128fe9b92a"
      },
      "execution_count": 122,
      "outputs": [
        {
          "output_type": "stream",
          "name": "stdout",
          "text": [
            "Shortest species:  hominino Sahelanthropus tchadensis\n",
            "Time existed:  7.179310371719999\n"
          ]
        }
      ]
    },
    {
      "cell_type": "code",
      "source": [
        "# Were there different species who lived on the same continent at the same time?\n",
        "# the smaller the time, the closer to the modern period\n",
        "# increments of 0.5\n",
        "print('Oldest time recorded: ', df['time(mil)'].max())\n",
        "\n",
        "print('7.5-7 million years ago: ', df[(df['time(mil)']<=7.5) & (df['time(mil)']>=7)][['species','continent']])\n",
        "print('5.5-5 million years ago: ', df[(df['time(mil)']<=5.5) & (df['time(mil)']>=5)][['species','continent']])\n",
        "print('3.5-3 million years ago: ', df[(df['time(mil)']<=3.5) & (df['time(mil)']>=3)][['species','continent']])\n",
        "print('1.5-1 million years ago: ', df[(df['time(mil)']<=1.5) & (df['time(mil)']>=1)][['species','continent']])\n",
        "print('0.5-0 million years ago: ', df[(df['time(mil)']<=0.5) & (df['time(mil)']>=0)][['species','continent']])\n"
      ],
      "metadata": {
        "colab": {
          "base_uri": "https://localhost:8080/"
        },
        "id": "xVa1-x28Wqy4",
        "outputId": "8b305254-58a1-4d41-a10f-7314642029f0"
      },
      "execution_count": 141,
      "outputs": [
        {
          "output_type": "stream",
          "name": "stdout",
          "text": [
            "Oldest time recorded:  7.6994172\n",
            "7.5-7 million years ago:                                    species continent\n",
            "61     hominino Sahelanthropus tchadensis    Africa\n",
            "83     hominino Sahelanthropus tchadensis    Africa\n",
            "186    hominino Sahelanthropus tchadensis    Africa\n",
            "225    hominino Sahelanthropus tchadensis    Africa\n",
            "243    hominino Sahelanthropus tchadensis    Africa\n",
            "...                                   ...       ...\n",
            "11651  hominino Sahelanthropus tchadensis    Africa\n",
            "11805  hominino Sahelanthropus tchadensis    Africa\n",
            "11842  hominino Sahelanthropus tchadensis    Africa\n",
            "11890  hominino Sahelanthropus tchadensis    Africa\n",
            "11968  hominino Sahelanthropus tchadensis    Africa\n",
            "\n",
            "[246 rows x 2 columns]\n",
            "5.5-5 million years ago:  Empty DataFrame\n",
            "Columns: [species, continent]\n",
            "Index: []\n",
            "3.5-3 million years ago:                                species continent\n",
            "29                   Homo Rudolfensis    Africa\n",
            "71             Australopithecus Garhi    Africa\n",
            "93         Australopithecus Africanus    Africa\n",
            "104            Australopithecus Garhi    Africa\n",
            "107                      Homo Habilis    Africa\n",
            "...                               ...       ...\n",
            "11897  Australopithecus Bahrelghazali    Africa\n",
            "11899                    Homo Habilis    Africa\n",
            "11965      Australopithecus Africanus    Africa\n",
            "11993                    Homo Habilis    Africa\n",
            "11995      Australopithecus Africanus    Africa\n",
            "\n",
            "[716 rows x 2 columns]\n",
            "1.5-1 million years ago:                   species continent\n",
            "21          Homo Erectus     Asia \n",
            "53        Homo Antecesor    Europa\n",
            "65         Homo Ergaster    Africa\n",
            "86        Homo Antecesor    Europa\n",
            "112    Homo Rodhesiensis    Africa\n",
            "...                  ...       ...\n",
            "11931       Homo Erectus     Asia \n",
            "11951       Homo Erectus     Asia \n",
            "11957     Homo Antecesor    Europa\n",
            "11961  Homo Rodhesiensis    Africa\n",
            "11980     Homo Antecesor    Europa\n",
            "\n",
            "[891 rows x 2 columns]\n",
            "0.5-0 million years ago:                         species continent\n",
            "14           Homo Floresiensis     Asia \n",
            "19           Homo Floresiensis     Asia \n",
            "32           Homo Floresiensis     Asia \n",
            "45                Homo Sapiens    Africa\n",
            "46           Homo Floresiensis     Asia \n",
            "...                        ...       ...\n",
            "11949        Homo Floresiensis     Asia \n",
            "11964  Homo Neanderthalensis\\n    Europa\n",
            "11966             Homo Sapiens    Africa\n",
            "11994             Homo Sapiens    Africa\n",
            "11997        Homo Floresiensis     Asia \n",
            "\n",
            "[1274 rows x 2 columns]\n"
          ]
        }
      ]
    },
    {
      "cell_type": "code",
      "source": [
        "# Is the number of hominids who were technologically advanced higher or lower given they lived in a harsher habitat?\n",
        "# For this project, harsher habitats will include jungle, cold forest, and savannah.\n",
        "harsh_climate = df[(df['habitat']=='jungle') | (df['habitat']=='cold forest') | (df['habitat']=='savannah')]\n",
        "\n",
        "print('Number of species in harsh habitats: ', harsh_climate.count()['species'])\n",
        "print('Number of technologically advanced species living in a harsh climate: ', harsh_climate[harsh_climate['technology']=='yes'].count()['species'])"
      ],
      "metadata": {
        "colab": {
          "base_uri": "https://localhost:8080/"
        },
        "id": "mjZ3TlbFWuQb",
        "outputId": "feb2b607-949d-4565-f452-b14cb34c4e1a"
      },
      "execution_count": 128,
      "outputs": [
        {
          "output_type": "stream",
          "name": "stdout",
          "text": [
            "Number of species in harsh habitats:  6000\n",
            "Number of technologically advanced species living in a harsh climate:  4500\n"
          ]
        }
      ]
    },
    {
      "cell_type": "markdown",
      "source": [
        "## Explanation and Plot\n",
        "Using sqlite3, I found the most common diet of each habitat. The data generally aligns with which habitats could provide each diet. However, this information does not take into account which species migrated, which might affect the type of diet most common to each habitat. Looking at tooth enamel, it is evident that with the introduction of meat into hominids' diets, tooth enamel became thinner. For hominids that ate only fruits, their enamel was medium thick to very thick. The shortest species was hominino Sahelanthropus tchadensis. This is also one of the oldest species, potentially indicating humans have evolved to be taller as opposed to being evolved to be shorter. Looking at different species in the same time period, there seems to much overlap in types of species and where they existed. As time progressed, there were more types of species in different continents. This data also confers with my earlier discovery that Africa is the oldest location of evolutionary evidence because the oldest species existed primarily in Africa. While I did not include every single time period, the time periods represented range wide enough to make the conclusion that it was usual for differnent species to live on the same continent at the same time. For the number of hominids that were technologically advanced and lived in a harsh habitat, there were more technologically advanced species than not living in harsh habitats."
      ],
      "metadata": {
        "id": "6SR5bdEdWzw5"
      }
    },
    {
      "cell_type": "code",
      "source": [
        "# first plot representation of one question\n",
        "x = df['time(mil)']\n",
        "y = df['species']\n",
        "plt.scatter(x,y, color='m')\n",
        "\n",
        "x_range = np.arange(0,8.5,0.5)\n",
        "plt.xticks(x_range)\n",
        "plt.xlabel('Time in millions of years ago')\n",
        "plt.ylabel('Species')\n",
        "plt.title('Species Over Time')"
      ],
      "metadata": {
        "colab": {
          "base_uri": "https://localhost:8080/",
          "height": 489
        },
        "id": "tyOpp1oEW1lf",
        "outputId": "983b3a3d-82a8-47e3-95dc-ac542cb4a0f4"
      },
      "execution_count": 143,
      "outputs": [
        {
          "output_type": "execute_result",
          "data": {
            "text/plain": [
              "Text(0.5, 1.0, 'Species Over Time')"
            ]
          },
          "metadata": {},
          "execution_count": 143
        },
        {
          "output_type": "display_data",
          "data": {
            "text/plain": [
              "<Figure size 640x480 with 1 Axes>"
            ],
            "image/png": "[encoded data removed]"
          },
          "metadata": {}
        }
      ]
    },
    {
      "cell_type": "markdown",
      "source": [
        "# Conclusion"
      ],
      "metadata": {
        "id": "p05_7wUwui9p"
      }
    },
    {
      "cell_type": "markdown",
      "source": [
        "In conclusion, this data set provided valuable insights into the characteristics of various hominid species in the history of human evolution. My analysis represents this data set through continuity and change over time. While my analysis looked into a variety of aspects of hominid species, there is much more analysis that can be done. Human evolution is a topic with a wide scope of characteristics to consider, and applying data wrangling methods to it provides a comprehensive way to understand human evolution."
      ],
      "metadata": {
        "id": "8BZacrG_unIw"
      }
    }
  ]
}
